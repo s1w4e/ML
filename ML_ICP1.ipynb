{
  "nbformat": 4,
  "nbformat_minor": 0,
  "metadata": {
    "colab": {
      "provenance": [],
      "authorship_tag": "ABX9TyPWgDkL+RO/gKBGKmPTS7Hy",
      "include_colab_link": true
    },
    "kernelspec": {
      "name": "python3",
      "display_name": "Python 3"
    },
    "language_info": {
      "name": "python"
    }
  },
  "cells": [
    {
      "cell_type": "markdown",
      "metadata": {
        "id": "view-in-github",
        "colab_type": "text"
      },
      "source": [
        "<a href=\"https://colab.research.google.com/github/s1w4e/ML/blob/main/ML_ICP1.ipynb\" target=\"_parent\"><img src=\"https://colab.research.google.com/assets/colab-badge.svg\" alt=\"Open In Colab\"/></a>"
      ]
    },
    {
      "cell_type": "code",
      "execution_count": null,
      "metadata": {
        "colab": {
          "base_uri": "https://localhost:8080/"
        },
        "id": "DjnjcUXKwYqH",
        "outputId": "13f05ce6-77f0-42fd-ee66-bc251ebdd00a"
      },
      "outputs": [
        {
          "output_type": "stream",
          "name": "stdout",
          "text": [
            "sorted list: [19, 19, 20, 22, 24, 24, 24, 25, 25, 26]\n",
            "Minimum Age: 19\n",
            "Maximum Age: 26\n"
          ]
        }
      ],
      "source": [
        "# Sort the list and find the min and max age\n",
        "ages = [19, 22, 19, 24, 20, 25, 26, 24, 25, 24]\n",
        "ages.sort() #sorts the elements in ages\n",
        "min_age=min(ages) #gives the minimum value in the list ages\n",
        "max_age=max(ages) #gives the maximum value in the list ages\n",
        "print(\"sorted list:\",ages) #prints the sorted list\n",
        "print(\"Minimum Age:\",min_age) #prints minimum value\n",
        "print(\"Maximum Age:\",max_age) #prints maximum value"
      ]
    },
    {
      "cell_type": "code",
      "source": [
        "#Add the min age and the max age again to the list\n",
        "ages.append(min_age) #adds minimum value again at the end of list\n",
        "ages.append(max_age) #adds max value again at the end of list\n",
        "print(ages)\n",
        "len(ages) #gives length of list"
      ],
      "metadata": {
        "colab": {
          "base_uri": "https://localhost:8080/"
        },
        "id": "doUMCqHmwkek",
        "outputId": "52e6a044-06a7-4634-d7de-d9cf4432c19a"
      },
      "execution_count": null,
      "outputs": [
        {
          "output_type": "stream",
          "name": "stdout",
          "text": [
            "[19, 19, 20, 22, 24, 24, 24, 25, 25, 26, 19, 26]\n"
          ]
        },
        {
          "output_type": "execute_result",
          "data": {
            "text/plain": [
              "12"
            ]
          },
          "metadata": {},
          "execution_count": 90
        }
      ]
    },
    {
      "cell_type": "code",
      "source": [
        "# Find the median age (one middle item or two middle items divided by two)\n",
        "import statistics\n",
        "print(statistics.median(ages)) #statistics.median() method calculates median"
      ],
      "metadata": {
        "colab": {
          "base_uri": "https://localhost:8080/"
        },
        "id": "BUrh3di8w3qt",
        "outputId": "98fb4fb3-5b2d-4ce9-fe29-feb3cf9844ab"
      },
      "execution_count": null,
      "outputs": [
        {
          "output_type": "stream",
          "name": "stdout",
          "text": [
            "24.0\n"
          ]
        }
      ]
    },
    {
      "cell_type": "code",
      "source": [
        "#Find the average age (sum of all items divided by their number)\n",
        "avg=sum(ages)/len(ages)\n",
        "print(avg)"
      ],
      "metadata": {
        "colab": {
          "base_uri": "https://localhost:8080/"
        },
        "id": "AH2vRNqyw_RP",
        "outputId": "32a8d3f2-60b4-4f07-e009-8afe01e82d6d"
      },
      "execution_count": null,
      "outputs": [
        {
          "output_type": "stream",
          "name": "stdout",
          "text": [
            "22.75\n"
          ]
        }
      ]
    },
    {
      "cell_type": "code",
      "source": [
        "#Find the range of the ages (max minus min)\n",
        "range=max(ages)-min(ages)\n",
        "range"
      ],
      "metadata": {
        "colab": {
          "base_uri": "https://localhost:8080/"
        },
        "id": "LBegobLvxIwR",
        "outputId": "4f44b60e-1465-4956-d509-9b73c6e254f1"
      },
      "execution_count": null,
      "outputs": [
        {
          "output_type": "execute_result",
          "data": {
            "text/plain": [
              "7"
            ]
          },
          "metadata": {},
          "execution_count": 94
        }
      ]
    },
    {
      "cell_type": "code",
      "source": [
        "#Create an empty dictionary called dog\n",
        "dog={}"
      ],
      "metadata": {
        "id": "hwj8ayFiykB8"
      },
      "execution_count": null,
      "outputs": []
    },
    {
      "cell_type": "code",
      "source": [
        "#Add name, color, breed, legs, age to the dog dictionary\n",
        "dog={\"name\": \"cameo\",\"color\":\"brown\",\"breed\":\"lab\",\"legs\":\"4\",\"age\":\"4\"}\n"
      ],
      "metadata": {
        "id": "DkajLv-hyoab"
      },
      "execution_count": null,
      "outputs": []
    },
    {
      "cell_type": "code",
      "source": [
        "#Create a student dictionary and add first_name, last_name, gender, age, marital status, skills, country, city and address as keys for the dictionary\n",
        "student={\"first_name\":\"srav\",\"last_name\":\"singh\",\"gender\":\"Female\",\"age\":\"20\",\"marital_status\":\"single\",\"skills\":[\"python\",\"c\",\"java\",\"SQL\"],\"country\":\"USA\",\"city\":\"New York\",\"address\":\"456 ter\"}"
      ],
      "metadata": {
        "id": "BUK0n1HEyzVl"
      },
      "execution_count": null,
      "outputs": []
    },
    {
      "cell_type": "code",
      "source": [
        "#Get the length of the student dictionary\n",
        "len(student)"
      ],
      "metadata": {
        "colab": {
          "base_uri": "https://localhost:8080/"
        },
        "id": "oIQHyeQSys3A",
        "outputId": "b576f541-e9d4-4984-c154-44b922aab7f4"
      },
      "execution_count": null,
      "outputs": [
        {
          "output_type": "execute_result",
          "data": {
            "text/plain": [
              "9"
            ]
          },
          "metadata": {},
          "execution_count": 98
        }
      ]
    },
    {
      "cell_type": "code",
      "source": [
        "#Get the value of skills and check the data type, it should be a list\n",
        "skills_value=student[\"skills\"]\n",
        "skills_type=type(skills_value)\n",
        "print(skills_value)\n",
        "print(skills_type)"
      ],
      "metadata": {
        "colab": {
          "base_uri": "https://localhost:8080/"
        },
        "id": "wZU7Rldoy461",
        "outputId": "e1c914e4-b8c4-4466-b20b-56e11abc4ef6"
      },
      "execution_count": null,
      "outputs": [
        {
          "output_type": "stream",
          "name": "stdout",
          "text": [
            "['python', 'c', 'java', 'SQL']\n",
            "<class 'list'>\n"
          ]
        }
      ]
    },
    {
      "cell_type": "code",
      "source": [
        "#Modify the skills values by adding one or two skills\n",
        "student[\"skills\"].extend([\"c++\",\"javascript\"])\n",
        "print(skills_value)"
      ],
      "metadata": {
        "colab": {
          "base_uri": "https://localhost:8080/"
        },
        "id": "nW--pLTJy9FM",
        "outputId": "8ecc75da-9653-41d5-b9f1-354ecfc344fc"
      },
      "execution_count": null,
      "outputs": [
        {
          "output_type": "stream",
          "name": "stdout",
          "text": [
            "['python', 'c', 'java', 'SQL', 'c++', 'javascript']\n"
          ]
        }
      ]
    },
    {
      "cell_type": "code",
      "source": [
        "#Get the dictionary keys as a list\n",
        "student_keys=list(student.keys())\n",
        "student_keys"
      ],
      "metadata": {
        "colab": {
          "base_uri": "https://localhost:8080/"
        },
        "id": "Nifme3LzzBQ9",
        "outputId": "8d07103a-e440-4f50-c9ad-a458a2f0b94c"
      },
      "execution_count": null,
      "outputs": [
        {
          "output_type": "execute_result",
          "data": {
            "text/plain": [
              "['first_name',\n",
              " 'last_name',\n",
              " 'gender',\n",
              " 'age',\n",
              " 'marital_status',\n",
              " 'skills',\n",
              " 'country',\n",
              " 'city',\n",
              " 'address']"
            ]
          },
          "metadata": {},
          "execution_count": 101
        }
      ]
    },
    {
      "cell_type": "code",
      "source": [
        "#Get the dictionary values as a list\n",
        "student_values=list(student.values())\n",
        "student_values"
      ],
      "metadata": {
        "colab": {
          "base_uri": "https://localhost:8080/"
        },
        "id": "x6g-ORWPzE1F",
        "outputId": "f7545c4b-4777-4a4a-9302-3f06fded2ea0"
      },
      "execution_count": null,
      "outputs": [
        {
          "output_type": "execute_result",
          "data": {
            "text/plain": [
              "['srav',\n",
              " 'singh',\n",
              " 'Female',\n",
              " '20',\n",
              " 'single',\n",
              " ['python', 'c', 'java', 'SQL', 'c++', 'javascript'],\n",
              " 'USA',\n",
              " 'New York',\n",
              " '456 ter']"
            ]
          },
          "metadata": {},
          "execution_count": 102
        }
      ]
    },
    {
      "cell_type": "code",
      "source": [
        "#Create a tuple containing names of your sisters and your brothers (imaginary siblings are fine)\n",
        "brotuple=(\"sri\",\"sai\",\"ram\")\n",
        "sistuple=(\"yam\",\"divya\",\"navya\")\n",
        "print(brotuple)\n",
        "print(sistuple)"
      ],
      "metadata": {
        "colab": {
          "base_uri": "https://localhost:8080/"
        },
        "id": "bKKtqKAbzJaZ",
        "outputId": "993b67c1-2f5f-4742-867f-2ecd085d58ae"
      },
      "execution_count": null,
      "outputs": [
        {
          "output_type": "stream",
          "name": "stdout",
          "text": [
            "('sri', 'sai', 'ram')\n",
            "('yam', 'divya', 'navya')\n"
          ]
        }
      ]
    },
    {
      "cell_type": "code",
      "source": [
        "#Join brothers and sisters tuples and assign it to siblings\n",
        "siblings=brotuple+sistuple\n",
        "print(siblings)"
      ],
      "metadata": {
        "colab": {
          "base_uri": "https://localhost:8080/"
        },
        "id": "jjABnxZVJk4a",
        "outputId": "34d66ada-6927-4e33-fa75-466c89b20516"
      },
      "execution_count": null,
      "outputs": [
        {
          "output_type": "stream",
          "name": "stdout",
          "text": [
            "('sri', 'sai', 'ram', 'yam', 'divya', 'navya')\n"
          ]
        }
      ]
    },
    {
      "cell_type": "code",
      "source": [
        "#How many siblings do you have?\n",
        "len(siblings)"
      ],
      "metadata": {
        "colab": {
          "base_uri": "https://localhost:8080/"
        },
        "id": "Cq0qsPBAM8pW",
        "outputId": "33200938-a38e-4284-8401-72f475ec5d76"
      },
      "execution_count": null,
      "outputs": [
        {
          "output_type": "execute_result",
          "data": {
            "text/plain": [
              "6"
            ]
          },
          "metadata": {},
          "execution_count": 105
        }
      ]
    },
    {
      "cell_type": "code",
      "source": [
        "# Modify the siblings tuple and add the name of your father and mother and assign it to family_members\n",
        "parentstuple=(\"chowdary\",\"Ani\")\n",
        "family_members=parentstuple+siblings\n",
        "family_members"
      ],
      "metadata": {
        "colab": {
          "base_uri": "https://localhost:8080/"
        },
        "id": "AZXcDZ29nrFi",
        "outputId": "2f3cbee0-ca98-4424-c2a7-aacf61cae1f9"
      },
      "execution_count": null,
      "outputs": [
        {
          "output_type": "execute_result",
          "data": {
            "text/plain": [
              "('chowdary', 'Ani', 'sri', 'sai', 'ram', 'yam', 'divya', 'navya')"
            ]
          },
          "metadata": {},
          "execution_count": 106
        }
      ]
    },
    {
      "cell_type": "code",
      "source": [
        "# Find the length of the set it_companies\n",
        "it_companies = {'Facebook', 'Google', 'Microsoft', 'Apple', 'IBM', 'Oracle', 'Amazon'}\n",
        "A = {19, 22, 24, 20, 25, 26}\n",
        "B = {19, 22, 20, 25, 26, 24, 28, 27}\n",
        "age = [22, 19, 24, 25, 26, 24, 25, 24]\n",
        "len(it_companies)"
      ],
      "metadata": {
        "colab": {
          "base_uri": "https://localhost:8080/"
        },
        "id": "-0lILFBgP1B0",
        "outputId": "2021ea00-2178-4faf-ad13-3257aff26b1b"
      },
      "execution_count": null,
      "outputs": [
        {
          "output_type": "execute_result",
          "data": {
            "text/plain": [
              "7"
            ]
          },
          "metadata": {},
          "execution_count": 134
        }
      ]
    },
    {
      "cell_type": "code",
      "source": [
        "# Add 'Twitter' to it_companies\n",
        "it_companies.add('Twitter')\n",
        "it_companies"
      ],
      "metadata": {
        "colab": {
          "base_uri": "https://localhost:8080/"
        },
        "id": "0tOCMEVlQKLU",
        "outputId": "30ecf57b-c213-4e38-da7f-80819c2e6786"
      },
      "execution_count": null,
      "outputs": [
        {
          "output_type": "execute_result",
          "data": {
            "text/plain": [
              "{'Amazon',\n",
              " 'Apple',\n",
              " 'Facebook',\n",
              " 'Google',\n",
              " 'IBM',\n",
              " 'Microsoft',\n",
              " 'Oracle',\n",
              " 'Twitter'}"
            ]
          },
          "metadata": {},
          "execution_count": 135
        }
      ]
    },
    {
      "cell_type": "code",
      "source": [
        "#Insert multiple IT companies at once to the set it_companies\n",
        "it_companies.update([\"meta\", \"LinkedIn\", \"Yahoo\"])\n",
        "print(it_companies)"
      ],
      "metadata": {
        "colab": {
          "base_uri": "https://localhost:8080/"
        },
        "id": "n-tnacc5WPlt",
        "outputId": "11cbe982-6d86-4209-96d0-2b2f054f9bf6"
      },
      "execution_count": null,
      "outputs": [
        {
          "output_type": "stream",
          "name": "stdout",
          "text": [
            "{'LinkedIn', 'Amazon', 'Oracle', 'Apple', 'Google', 'Yahoo', 'IBM', 'Microsoft', 'Twitter', 'meta', 'Facebook'}\n"
          ]
        }
      ]
    },
    {
      "cell_type": "code",
      "source": [
        "#Remove one of the companies from the set it_companies\n",
        "it_companies.remove('Amazon')\n",
        "print(it_companies)"
      ],
      "metadata": {
        "colab": {
          "base_uri": "https://localhost:8080/"
        },
        "id": "LqdLH2HPW0Wi",
        "outputId": "f248a4e2-5add-4cea-fba7-918707baa4b9"
      },
      "execution_count": null,
      "outputs": [
        {
          "output_type": "stream",
          "name": "stdout",
          "text": [
            "{'LinkedIn', 'Oracle', 'Apple', 'Google', 'Yahoo', 'IBM', 'Microsoft', 'Twitter', 'meta', 'Facebook'}\n"
          ]
        }
      ]
    },
    {
      "cell_type": "code",
      "source": [
        "#What is the difference between remove and discard\n",
        "# remove():Gives error if element is not present\n",
        "# discard():Does not give any error if element is not present"
      ],
      "metadata": {
        "id": "JF233Qe5osY2"
      },
      "execution_count": null,
      "outputs": []
    },
    {
      "cell_type": "code",
      "source": [
        "#EXAMPLE\n",
        "it_companies.discard('Snap')\n",
        "print(it_companies)"
      ],
      "metadata": {
        "colab": {
          "base_uri": "https://localhost:8080/"
        },
        "id": "HFN8-nj6XGja",
        "outputId": "52f261f0-8a32-4192-ee8f-53b72df1ffb3"
      },
      "execution_count": null,
      "outputs": [
        {
          "output_type": "stream",
          "name": "stdout",
          "text": [
            "{'LinkedIn', 'Amazon', 'Oracle', 'Apple', 'Google', 'Yahoo', 'IBM', 'Microsoft', 'Twitter', 'meta', 'Facebook'}\n"
          ]
        }
      ]
    },
    {
      "cell_type": "code",
      "source": [
        "#Join A and B\n",
        "union=A.union(B)\n",
        "union"
      ],
      "metadata": {
        "colab": {
          "base_uri": "https://localhost:8080/"
        },
        "id": "_yuV9T0jXcag",
        "outputId": "ac41ee77-51e0-41ad-96f0-fad1c7139cc3"
      },
      "execution_count": null,
      "outputs": [
        {
          "output_type": "execute_result",
          "data": {
            "text/plain": [
              "{19, 20, 22, 24, 25, 26, 27, 28}"
            ]
          },
          "metadata": {},
          "execution_count": 138
        }
      ]
    },
    {
      "cell_type": "code",
      "source": [
        "#Find A intersection B\n",
        "intersection=A.intersection(B)\n",
        "intersection"
      ],
      "metadata": {
        "colab": {
          "base_uri": "https://localhost:8080/"
        },
        "id": "RUySWrrBYDEO",
        "outputId": "d5ae4ee4-7986-4dc6-b5f6-7719c51e4e71"
      },
      "execution_count": null,
      "outputs": [
        {
          "output_type": "execute_result",
          "data": {
            "text/plain": [
              "{19, 20, 22, 24, 25, 26}"
            ]
          },
          "metadata": {},
          "execution_count": 115
        }
      ]
    },
    {
      "cell_type": "code",
      "source": [
        "#Is A subset of B\n",
        "subset=A.issubset(B)\n",
        "subset"
      ],
      "metadata": {
        "colab": {
          "base_uri": "https://localhost:8080/"
        },
        "id": "_ksEo5b5YL3k",
        "outputId": "6d4bd5bd-7b91-436c-809f-69572c024e6c"
      },
      "execution_count": null,
      "outputs": [
        {
          "output_type": "execute_result",
          "data": {
            "text/plain": [
              "True"
            ]
          },
          "metadata": {},
          "execution_count": 116
        }
      ]
    },
    {
      "cell_type": "code",
      "source": [
        "#Are A and B disjoint sets\n",
        "disjoint=A.isdisjoint(B)\n",
        "disjoint"
      ],
      "metadata": {
        "colab": {
          "base_uri": "https://localhost:8080/"
        },
        "id": "iomMCgKyYxZm",
        "outputId": "3274a230-2889-451c-9efb-922e6f587107"
      },
      "execution_count": null,
      "outputs": [
        {
          "output_type": "execute_result",
          "data": {
            "text/plain": [
              "False"
            ]
          },
          "metadata": {},
          "execution_count": 139
        }
      ]
    },
    {
      "cell_type": "code",
      "source": [
        "#Join A with B and B with A\n",
        "A.update(B)\n",
        "A"
      ],
      "metadata": {
        "colab": {
          "base_uri": "https://localhost:8080/"
        },
        "id": "FJsSp-MJZGzQ",
        "outputId": "bbeb37bc-4faa-44a2-e169-9aa28b7b6944"
      },
      "execution_count": null,
      "outputs": [
        {
          "output_type": "execute_result",
          "data": {
            "text/plain": [
              "{19, 20, 22, 24, 25, 26, 27, 28}"
            ]
          },
          "metadata": {},
          "execution_count": 118
        }
      ]
    },
    {
      "cell_type": "code",
      "source": [
        "B.update(A)\n",
        "B"
      ],
      "metadata": {
        "colab": {
          "base_uri": "https://localhost:8080/"
        },
        "id": "9vJchoZ7ZWnA",
        "outputId": "a4d7d7a4-f429-41f0-e8e6-e97d06c6127c"
      },
      "execution_count": null,
      "outputs": [
        {
          "output_type": "execute_result",
          "data": {
            "text/plain": [
              "{19, 20, 22, 24, 25, 26, 27, 28}"
            ]
          },
          "metadata": {},
          "execution_count": 119
        }
      ]
    },
    {
      "cell_type": "code",
      "source": [
        "#What is the symmetric difference between A and B\n",
        "symmetric_difference=A.symmetric_difference(B)\n",
        "symmetric_difference"
      ],
      "metadata": {
        "colab": {
          "base_uri": "https://localhost:8080/"
        },
        "id": "dB0Z8iqxZffF",
        "outputId": "c30d3f16-e52c-4154-81d7-5df2aef2c8d4"
      },
      "execution_count": null,
      "outputs": [
        {
          "output_type": "execute_result",
          "data": {
            "text/plain": [
              "{27, 28}"
            ]
          },
          "metadata": {},
          "execution_count": 140
        }
      ]
    },
    {
      "cell_type": "code",
      "source": [
        "#Delete the sets completely\n",
        "del A\n",
        "del B"
      ],
      "metadata": {
        "id": "_lqoc-Isq9df"
      },
      "execution_count": null,
      "outputs": []
    },
    {
      "cell_type": "code",
      "source": [
        "#Convert the ages to a set and compare the length of the list and the set.\n",
        "age = [22, 19, 24, 25, 26, 24, 25, 24]\n",
        "ageset=set(age)\n",
        "print(len(age))\n",
        "print(len(ageset))"
      ],
      "metadata": {
        "colab": {
          "base_uri": "https://localhost:8080/"
        },
        "id": "0Gtyn-E2Zxze",
        "outputId": "6da7cd87-c34e-4a70-a17b-8ca758fbb8ae"
      },
      "execution_count": null,
      "outputs": [
        {
          "output_type": "stream",
          "name": "stdout",
          "text": [
            "8\n",
            "5\n"
          ]
        }
      ]
    },
    {
      "cell_type": "code",
      "source": [
        "#Calculate the area of a circle and assign the value to a variable name of area_of_circle\n",
        "radius=30\n",
        "area_of_circle=3.14*radius*radius\n",
        "area_of_circle"
      ],
      "metadata": {
        "id": "M5u_qD0AaZi2"
      },
      "execution_count": null,
      "outputs": []
    },
    {
      "cell_type": "code",
      "source": [
        "#Calculate the circumference of a circle and assign the value to a variable name of circum_of_circle\n",
        "circum_of_circle=2*3.14*radius\n",
        "circum_of_circle"
      ],
      "metadata": {
        "colab": {
          "base_uri": "https://localhost:8080/"
        },
        "id": "tdEup1KTa8z-",
        "outputId": "437943b5-8ab5-4037-d495-41aa6dd3fde8"
      },
      "execution_count": null,
      "outputs": [
        {
          "output_type": "execute_result",
          "data": {
            "text/plain": [
              "62.800000000000004"
            ]
          },
          "metadata": {},
          "execution_count": 122
        }
      ]
    },
    {
      "cell_type": "code",
      "source": [
        "#Take radius as user input and calculate the area.\n",
        "import math\n",
        "radius=float(input(\"enter radius:\"))\n",
        "area=math.pi * radius ** 2\n",
        "area"
      ],
      "metadata": {
        "colab": {
          "base_uri": "https://localhost:8080/"
        },
        "id": "xtR2SQ_-azaE",
        "outputId": "72047100-5725-4307-af68-b0dfcccbbe94"
      },
      "execution_count": null,
      "outputs": [
        {
          "name": "stdout",
          "output_type": "stream",
          "text": [
            "enter radius:5\n"
          ]
        },
        {
          "output_type": "execute_result",
          "data": {
            "text/plain": [
              "78.53981633974483"
            ]
          },
          "metadata": {},
          "execution_count": 123
        }
      ]
    },
    {
      "cell_type": "code",
      "source": [
        "#How many unique words have been used in the sentence? Use the split methods and set to get the unique words.\n",
        "sentence = \"I am a teacher and I love to inspire and teach people\"\n",
        "words=sentence.split()\n",
        "unique_words=set(words)\n",
        "number_unique_words=len(unique_words)\n",
        "number_unique_words\n"
      ],
      "metadata": {
        "colab": {
          "base_uri": "https://localhost:8080/"
        },
        "id": "6znuY94ncC99",
        "outputId": "fa1eb4d0-e4dc-4241-8a8b-7562d921f486"
      },
      "execution_count": null,
      "outputs": [
        {
          "output_type": "execute_result",
          "data": {
            "text/plain": [
              "10"
            ]
          },
          "metadata": {},
          "execution_count": 124
        }
      ]
    },
    {
      "cell_type": "code",
      "source": [
        "#Use a tab escape sequence to get the following lines. Name Age Country City Asabeneh 250 Finland Helsinki\n",
        "print(\"Name\\tAge\\tCountry\\tCity\")\n",
        "print(\"Asabenesh\\t250\\tFinland\\tHelsinki\")"
      ],
      "metadata": {
        "colab": {
          "base_uri": "https://localhost:8080/"
        },
        "id": "s8o1w8gSdkTG",
        "outputId": "57e69a2b-29de-4c2e-8f60-32de8e1b4b6f"
      },
      "execution_count": null,
      "outputs": [
        {
          "output_type": "stream",
          "name": "stdout",
          "text": [
            "Name\tAge\tCountry\tCity\n",
            "Asabenesh\t250\tFinland\tHelsinki\n"
          ]
        }
      ]
    },
    {
      "cell_type": "code",
      "source": [
        "#Use the string formatting method to display the following: radius = 10 area = 3.14 * radius ** 2 “The area of a circle with radius 10 is 314 meters square.”\n",
        "radius = 10\n",
        "area = 3.14 * radius ** 2\n",
        "result =f\"The area of a circle with radius {radius} is {area} meters square.\"\n",
        "result"
      ],
      "metadata": {
        "colab": {
          "base_uri": "https://localhost:8080/",
          "height": 36
        },
        "id": "1ZVuWpGAezRf",
        "outputId": "dcab6c80-42b2-4aaf-b860-43777fe124e1"
      },
      "execution_count": null,
      "outputs": [
        {
          "output_type": "execute_result",
          "data": {
            "text/plain": [
              "'The area of a circle with radius 10 is 314.0 meters square.'"
            ],
            "application/vnd.google.colaboratory.intrinsic+json": {
              "type": "string"
            }
          },
          "metadata": {},
          "execution_count": 126
        }
      ]
    },
    {
      "cell_type": "code",
      "source": [
        "#Write a program, which reads weights (lbs.) of N students into a list and convert these weights to\n",
        "#kilograms in a separate list using Loop. N: No of students (Read input from user)\n",
        "#Ex: L1: [150, 155, 145, 148]\n",
        "#Output: [68.03, 70.3, 65.77, 67.13]\n",
        "# Read the number of students from user\n",
        "n = int(input(\"Enter the number of students: \"))\n",
        "# Initialize an empty list for weights in pounds\n",
        "weights_lbs = []\n",
        "# Use a while loop to read and append elements to the list\n",
        "i = 0\n",
        "while i < n:\n",
        "    weight_lbs = int(input(f\"Enter element {i+1} (in pounds): \"))\n",
        "    weights_lbs.append(weight_lbs)\n",
        "    i += 1\n",
        "# Convert weights from pounds to kilograms and round to 2 decimal places\n",
        "weights_kg = []\n",
        "i = 0\n",
        "while i < len(weights_lbs):\n",
        "    weight_kg = round(weights_lbs[i] * 0.453592, 2)\n",
        "    weights_kg.append(weight_kg)\n",
        "    i += 1\n",
        "# Print the weights in kilograms\n",
        "print(\"Weights in kilograms:\",weights_kg)\n"
      ],
      "metadata": {
        "colab": {
          "base_uri": "https://localhost:8080/"
        },
        "id": "nYxY7CL0zM2B",
        "outputId": "94c1572a-32e1-4c92-f1f2-6b346e4d4480"
      },
      "execution_count": null,
      "outputs": [
        {
          "output_type": "stream",
          "name": "stdout",
          "text": [
            "Enter the number of students: 4\n",
            "Enter element 1 (in pounds): 20\n",
            "Enter element 2 (in pounds): 30\n",
            "Enter element 3 (in pounds): 40\n",
            "Enter element 4 (in pounds): 50\n",
            "Weights in kilograms: [9.07, 13.61, 18.14, 22.68]\n"
          ]
        }
      ]
    }
  ]
}